{
  "nbformat": 4,
  "nbformat_minor": 0,
  "metadata": {
    "colab": {
      "provenance": [],
      "mount_file_id": "1iVg9hNdPZb1EObtcKO6GuPnhqt-gybXp",
      "authorship_tag": "ABX9TyPUFjNfYMVECsaGX7aoiVvD",
      "include_colab_link": true
    },
    "kernelspec": {
      "name": "python3",
      "display_name": "Python 3"
    },
    "language_info": {
      "name": "python"
    }
  },
  "cells": [
    {
      "cell_type": "markdown",
      "metadata": {
        "id": "view-in-github",
        "colab_type": "text"
      },
      "source": [
        "<a href=\"https://colab.research.google.com/github/miriyamtrishni/Deep-Learning/blob/main/experiment.ipynb\" target=\"_parent\"><img src=\"https://colab.research.google.com/assets/colab-badge.svg\" alt=\"Open In Colab\"/></a>"
      ]
    },
    {
      "cell_type": "code",
      "execution_count": 3,
      "metadata": {
        "id": "wEjNSOQU4xPI"
      },
      "outputs": [],
      "source": []
    },
    {
      "cell_type": "code",
      "source": [
        "from google.colab import drive\n",
        "drive.mount('/content/drive')"
      ],
      "metadata": {
        "id": "UF7eLxs0BKS2",
        "colab": {
          "base_uri": "https://localhost:8080/"
        },
        "outputId": "c04b6e53-7dca-49e7-b210-e10d042ea940"
      },
      "execution_count": 4,
      "outputs": [
        {
          "output_type": "stream",
          "name": "stdout",
          "text": [
            "Drive already mounted at /content/drive; to attempt to forcibly remount, call drive.mount(\"/content/drive\", force_remount=True).\n"
          ]
        }
      ]
    },
    {
      "cell_type": "code",
      "source": [
        "from __future__ import division, print_function, unicode_literals"
      ],
      "metadata": {
        "id": "oC0B7LBRDzRJ"
      },
      "execution_count": 5,
      "outputs": []
    },
    {
      "cell_type": "code",
      "source": [
        "import numpy as np"
      ],
      "metadata": {
        "id": "agtBc3DCFij-"
      },
      "execution_count": 6,
      "outputs": []
    },
    {
      "cell_type": "code",
      "source": [
        "np.zeros((3,4))"
      ],
      "metadata": {
        "colab": {
          "base_uri": "https://localhost:8080/"
        },
        "id": "L7f-VXKbHbiP",
        "outputId": "0b02b799-69fc-44f1-92f7-5fed94894ff4"
      },
      "execution_count": null,
      "outputs": [
        {
          "output_type": "execute_result",
          "data": {
            "text/plain": [
              "array([[0., 0., 0., 0.],\n",
              "       [0., 0., 0., 0.],\n",
              "       [0., 0., 0., 0.]])"
            ]
          },
          "metadata": {},
          "execution_count": 10
        }
      ]
    },
    {
      "cell_type": "code",
      "source": [
        "a = np.zeros((3,4))\n",
        "a"
      ],
      "metadata": {
        "colab": {
          "base_uri": "https://localhost:8080/"
        },
        "id": "CDLfNQfNHdZH",
        "outputId": "aff28b96-1fef-42b5-cc43-6a4ecbc2ada4"
      },
      "execution_count": null,
      "outputs": [
        {
          "output_type": "execute_result",
          "data": {
            "text/plain": [
              "array([[0., 0., 0., 0.],\n",
              "       [0., 0., 0., 0.],\n",
              "       [0., 0., 0., 0.]])"
            ]
          },
          "metadata": {},
          "execution_count": 13
        }
      ]
    },
    {
      "cell_type": "code",
      "source": [
        "a.shape"
      ],
      "metadata": {
        "colab": {
          "base_uri": "https://localhost:8080/"
        },
        "id": "tOhJI7skHurv",
        "outputId": "6a6f7614-1114-462c-c9c2-b8483f76c9d1"
      },
      "execution_count": null,
      "outputs": [
        {
          "output_type": "execute_result",
          "data": {
            "text/plain": [
              "(3, 4)"
            ]
          },
          "metadata": {},
          "execution_count": 14
        }
      ]
    },
    {
      "cell_type": "code",
      "source": [
        "np.zeros((2,1,3))"
      ],
      "metadata": {
        "colab": {
          "base_uri": "https://localhost:8080/"
        },
        "id": "9BLB5W4MIVX6",
        "outputId": "040b0c7b-fa8d-4e6e-fc10-b17ab5937584"
      },
      "execution_count": 8,
      "outputs": [
        {
          "output_type": "execute_result",
          "data": {
            "text/plain": [
              "array([[[0., 0., 0.]],\n",
              "\n",
              "       [[0., 0., 0.]]])"
            ]
          },
          "metadata": {},
          "execution_count": 8
        }
      ]
    },
    {
      "cell_type": "code",
      "source": [],
      "metadata": {
        "id": "3AvvUpyN34UD"
      },
      "execution_count": null,
      "outputs": []
    },
    {
      "cell_type": "code",
      "source": [
        "np.arange(1, 2,5)\n"
      ],
      "metadata": {
        "colab": {
          "base_uri": "https://localhost:8080/"
        },
        "id": "-PJW9bq9-HiD",
        "outputId": "df0bea7b-0e86-46f8-aa97-8f674c66de4b"
      },
      "execution_count": 15,
      "outputs": [
        {
          "output_type": "execute_result",
          "data": {
            "text/plain": [
              "array([1])"
            ]
          },
          "metadata": {},
          "execution_count": 15
        }
      ]
    },
    {
      "cell_type": "code",
      "source": [
        "np.random.randn(10000,1)"
      ],
      "metadata": {
        "colab": {
          "base_uri": "https://localhost:8080/"
        },
        "id": "rAL4QoHtANXV",
        "outputId": "5d9629a3-1681-4bf6-9d91-6a71dcbc0f7a"
      },
      "execution_count": 22,
      "outputs": [
        {
          "output_type": "execute_result",
          "data": {
            "text/plain": [
              "array([[-1.1825842 ],\n",
              "       [ 0.88411621],\n",
              "       [-0.11695842],\n",
              "       ...,\n",
              "       [ 2.17410567],\n",
              "       [ 0.15463142],\n",
              "       [-1.3397189 ]])"
            ]
          },
          "metadata": {},
          "execution_count": 22
        }
      ]
    },
    {
      "cell_type": "code",
      "source": [
        "import matplotlib.pyplot as plt\n",
        "\n"
      ],
      "metadata": {
        "id": "OwIqFpOtFu1Y"
      },
      "execution_count": 24,
      "outputs": []
    },
    {
      "cell_type": "code",
      "source": [
        "[ ]\n",
        "plt.hist(np.random.rand(100000), density=True, bins=100, histtype=\"step\", color=\"blue\",\n",
        "label=\"rand\")\n",
        "plt.axis([-2.5, 2.5, 0, 1.1])\n",
        "plt.legend(loc = \"upper left\")\n",
        "plt.title(\"Random distributions\")\n",
        "plt.xlabel(\"Value\")\n",
        "plt.ylabel(\"Density\")\n",
        "plt.show()\n",
        "np.fromfunction"
      ],
      "metadata": {
        "colab": {
          "base_uri": "https://localhost:8080/",
          "height": 641
        },
        "collapsed": true,
        "id": "nswZWYkQF7e_",
        "outputId": "9e5bd722-e2d0-4702-cac3-825bc02d935c"
      },
      "execution_count": 27,
      "outputs": [
        {
          "output_type": "display_data",
          "data": {
            "text/plain": [
              "<Figure size 640x480 with 1 Axes>"
            ],
            "image/png": "[encoded data removed]"
          },
          "metadata": {}
        },
        {
          "output_type": "execute_result",
          "data": {
            "text/plain": [
              "<function numpy.fromfunction(function, shape, *, dtype=<class 'float'>, like=None, **kwargs)>"
            ],
            "text/html": [
              "<div style=\"max-width:800px; border: 1px solid var(--colab-border-color);\"><style>\n",
              "      pre.function-repr-contents {\n",
              "        overflow-x: auto;\n",
              "        padding: 8px 12px;\n",
              "        max-height: 500px;\n",
              "      }\n",
              "\n",
              "      pre.function-repr-contents.function-repr-contents-collapsed {\n",
              "        cursor: pointer;\n",
              "        max-height: 100px;\n",
              "      }\n",
              "    </style>\n",
              "    <pre style=\"white-space: initial; background:\n",
              "         var(--colab-secondary-surface-color); padding: 8px 12px;\n",
              "         border-bottom: 1px solid var(--colab-border-color);\"><b>numpy.fromfunction</b><br/>def fromfunction(function, shape, *, dtype=float, like=None, **kwargs)</pre><pre class=\"function-repr-contents function-repr-contents-collapsed\" style=\"\"><a class=\"filepath\" style=\"display:none\" href=\"#\">/usr/local/lib/python3.11/dist-packages/numpy/_core/numeric.py</a>Construct an array by executing a function over each coordinate.\n",
              "\n",
              "The resulting array therefore has a value ``fn(x, y, z)`` at\n",
              "coordinate ``(x, y, z)``.\n",
              "\n",
              "Parameters\n",
              "----------\n",
              "function : callable\n",
              "    The function is called with N parameters, where N is the rank of\n",
              "    `shape`.  Each parameter represents the coordinates of the array\n",
              "    varying along a specific axis.  For example, if `shape`\n",
              "    were ``(2, 2)``, then the parameters would be\n",
              "    ``array([[0, 0], [1, 1]])`` and ``array([[0, 1], [0, 1]])``\n",
              "shape : (N,) tuple of ints\n",
              "    Shape of the output array, which also determines the shape of\n",
              "    the coordinate arrays passed to `function`.\n",
              "dtype : data-type, optional\n",
              "    Data-type of the coordinate arrays passed to `function`.\n",
              "    By default, `dtype` is float.\n",
              "like : array_like, optional\n",
              "    Reference object to allow the creation of arrays which are not\n",
              "    NumPy arrays. If an array-like passed in as ``like`` supports\n",
              "    the ``__array_function__`` protocol, the result will be defined\n",
              "    by it. In this case, it ensures the creation of an array object\n",
              "    compatible with that passed in via this argument.\n",
              "\n",
              "    .. versionadded:: 1.20.0\n",
              "\n",
              "Returns\n",
              "-------\n",
              "fromfunction : any\n",
              "    The result of the call to `function` is passed back directly.\n",
              "    Therefore the shape of `fromfunction` is completely determined by\n",
              "    `function`.  If `function` returns a scalar value, the shape of\n",
              "    `fromfunction` would not match the `shape` parameter.\n",
              "\n",
              "See Also\n",
              "--------\n",
              "indices, meshgrid\n",
              "\n",
              "Notes\n",
              "-----\n",
              "Keywords other than `dtype` and `like` are passed to `function`.\n",
              "\n",
              "Examples\n",
              "--------\n",
              "&gt;&gt;&gt; np.fromfunction(lambda i, j: i, (2, 2), dtype=float)\n",
              "array([[0., 0.],\n",
              "       [1., 1.]])\n",
              "\n",
              "&gt;&gt;&gt; np.fromfunction(lambda i, j: j, (2, 2), dtype=float)\n",
              "array([[0., 1.],\n",
              "       [0., 1.]])\n",
              "\n",
              "&gt;&gt;&gt; np.fromfunction(lambda i, j: i == j, (3, 3), dtype=int)\n",
              "array([[ True, False, False],\n",
              "       [False,  True, False],\n",
              "       [False, False,  True]])\n",
              "\n",
              "&gt;&gt;&gt; np.fromfunction(lambda i, j: i + j, (3, 3), dtype=int)\n",
              "array([[0, 1, 2],\n",
              "       [1, 2, 3],\n",
              "       [2, 3, 4]])</pre>\n",
              "      <script>\n",
              "      if (google.colab.kernel.accessAllowed && google.colab.files && google.colab.files.view) {\n",
              "        for (const element of document.querySelectorAll('.filepath')) {\n",
              "          element.style.display = 'block'\n",
              "          element.onclick = (event) => {\n",
              "            event.preventDefault();\n",
              "            event.stopPropagation();\n",
              "            google.colab.files.view(element.textContent, 1839);\n",
              "          };\n",
              "        }\n",
              "      }\n",
              "      for (const element of document.querySelectorAll('.function-repr-contents')) {\n",
              "        element.onclick = (event) => {\n",
              "          event.preventDefault();\n",
              "          event.stopPropagation();\n",
              "          element.classList.toggle('function-repr-contents-collapsed');\n",
              "        };\n",
              "      }\n",
              "      </script>\n",
              "      </div>"
            ]
          },
          "metadata": {},
          "execution_count": 27
        }
      ]
    },
    {
      "cell_type": "code",
      "source": [
        "[ ]\n",
        "plt.hist(np.random.rand(202000), density=True, bins=20, histtype=\"step\", color=\"blue\", label=\"rand\")\n",
        "#plt.hist(np.random.randn(1200), density=True, bins=100, histtype=\"step\", color=\"red\", label=\"randn\")\n",
        "plt.axis([-2.5, 2.5, 0, 1.1])\n",
        "plt.legend(loc = \"upper left\")\n",
        "plt.title(\"Random distributions\")\n",
        "plt.xlabel(\"Value\")\n",
        "plt.ylabel(\"Density\")\n",
        "plt.show()\n",
        "np.fromfunction"
      ],
      "metadata": {
        "colab": {
          "base_uri": "https://localhost:8080/",
          "height": 641
        },
        "id": "0Lo5cV51GS2I",
        "outputId": "4056e482-842d-4584-9126-e5516e5d0ffc"
      },
      "execution_count": 50,
      "outputs": [
        {
          "output_type": "display_data",
          "data": {
            "text/plain": [
              "<Figure size 640x480 with 1 Axes>"
            ],
            "image/png": "[encoded data removed]"
          },
          "metadata": {}
        },
        {
          "output_type": "execute_result",
          "data": {
            "text/plain": [
              "<function numpy.fromfunction(function, shape, *, dtype=<class 'float'>, like=None, **kwargs)>"
            ],
            "text/html": [
              "<div style=\"max-width:800px; border: 1px solid var(--colab-border-color);\"><style>\n",
              "      pre.function-repr-contents {\n",
              "        overflow-x: auto;\n",
              "        padding: 8px 12px;\n",
              "        max-height: 500px;\n",
              "      }\n",
              "\n",
              "      pre.function-repr-contents.function-repr-contents-collapsed {\n",
              "        cursor: pointer;\n",
              "        max-height: 100px;\n",
              "      }\n",
              "    </style>\n",
              "    <pre style=\"white-space: initial; background:\n",
              "         var(--colab-secondary-surface-color); padding: 8px 12px;\n",
              "         border-bottom: 1px solid var(--colab-border-color);\"><b>numpy.fromfunction</b><br/>def fromfunction(function, shape, *, dtype=float, like=None, **kwargs)</pre><pre class=\"function-repr-contents function-repr-contents-collapsed\" style=\"\"><a class=\"filepath\" style=\"display:none\" href=\"#\">/usr/local/lib/python3.11/dist-packages/numpy/_core/numeric.py</a>Construct an array by executing a function over each coordinate.\n",
              "\n",
              "The resulting array therefore has a value ``fn(x, y, z)`` at\n",
              "coordinate ``(x, y, z)``.\n",
              "\n",
              "Parameters\n",
              "----------\n",
              "function : callable\n",
              "    The function is called with N parameters, where N is the rank of\n",
              "    `shape`.  Each parameter represents the coordinates of the array\n",
              "    varying along a specific axis.  For example, if `shape`\n",
              "    were ``(2, 2)``, then the parameters would be\n",
              "    ``array([[0, 0], [1, 1]])`` and ``array([[0, 1], [0, 1]])``\n",
              "shape : (N,) tuple of ints\n",
              "    Shape of the output array, which also determines the shape of\n",
              "    the coordinate arrays passed to `function`.\n",
              "dtype : data-type, optional\n",
              "    Data-type of the coordinate arrays passed to `function`.\n",
              "    By default, `dtype` is float.\n",
              "like : array_like, optional\n",
              "    Reference object to allow the creation of arrays which are not\n",
              "    NumPy arrays. If an array-like passed in as ``like`` supports\n",
              "    the ``__array_function__`` protocol, the result will be defined\n",
              "    by it. In this case, it ensures the creation of an array object\n",
              "    compatible with that passed in via this argument.\n",
              "\n",
              "    .. versionadded:: 1.20.0\n",
              "\n",
              "Returns\n",
              "-------\n",
              "fromfunction : any\n",
              "    The result of the call to `function` is passed back directly.\n",
              "    Therefore the shape of `fromfunction` is completely determined by\n",
              "    `function`.  If `function` returns a scalar value, the shape of\n",
              "    `fromfunction` would not match the `shape` parameter.\n",
              "\n",
              "See Also\n",
              "--------\n",
              "indices, meshgrid\n",
              "\n",
              "Notes\n",
              "-----\n",
              "Keywords other than `dtype` and `like` are passed to `function`.\n",
              "\n",
              "Examples\n",
              "--------\n",
              "&gt;&gt;&gt; np.fromfunction(lambda i, j: i, (2, 2), dtype=float)\n",
              "array([[0., 0.],\n",
              "       [1., 1.]])\n",
              "\n",
              "&gt;&gt;&gt; np.fromfunction(lambda i, j: j, (2, 2), dtype=float)\n",
              "array([[0., 1.],\n",
              "       [0., 1.]])\n",
              "\n",
              "&gt;&gt;&gt; np.fromfunction(lambda i, j: i == j, (3, 3), dtype=int)\n",
              "array([[ True, False, False],\n",
              "       [False,  True, False],\n",
              "       [False, False,  True]])\n",
              "\n",
              "&gt;&gt;&gt; np.fromfunction(lambda i, j: i + j, (3, 3), dtype=int)\n",
              "array([[0, 1, 2],\n",
              "       [1, 2, 3],\n",
              "       [2, 3, 4]])</pre>\n",
              "      <script>\n",
              "      if (google.colab.kernel.accessAllowed && google.colab.files && google.colab.files.view) {\n",
              "        for (const element of document.querySelectorAll('.filepath')) {\n",
              "          element.style.display = 'block'\n",
              "          element.onclick = (event) => {\n",
              "            event.preventDefault();\n",
              "            event.stopPropagation();\n",
              "            google.colab.files.view(element.textContent, 1839);\n",
              "          };\n",
              "        }\n",
              "      }\n",
              "      for (const element of document.querySelectorAll('.function-repr-contents')) {\n",
              "        element.onclick = (event) => {\n",
              "          event.preventDefault();\n",
              "          event.stopPropagation();\n",
              "          element.classList.toggle('function-repr-contents-collapsed');\n",
              "        };\n",
              "      }\n",
              "      </script>\n",
              "      </div>"
            ]
          },
          "metadata": {},
          "execution_count": 50
        }
      ]
    }
  ]
}